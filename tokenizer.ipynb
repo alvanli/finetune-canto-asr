{
 "cells": [
  {
   "cell_type": "code",
   "execution_count": 4,
   "id": "4e3aa875",
   "metadata": {},
   "outputs": [],
   "source": [
    "from tokenizers import ByteLevelBPETokenizer\n",
    "\n",
    "bpe_tokenizer = ByteLevelBPETokenizer()\n"
   ]
  },
  {
   "cell_type": "code",
   "execution_count": 5,
   "id": "342eb42a",
   "metadata": {},
   "outputs": [
    {
     "name": "stdout",
     "output_type": "stream",
     "text": [
      "\n",
      "\n",
      "\n"
     ]
    }
   ],
   "source": [
    "bpe_tokenizer.train(\n",
    "    files=[\"/exp/whisper_yue/finetune-whisper-canto/just_text/all_texts.txt\"], \n",
    "    vocab_size=50000, \n",
    "    min_frequency=2, \n",
    "    special_tokens=[\n",
    "        \"[PAD]\",\n",
    "        \"[MASK]\",\n",
    "        \"[UNK]\",\n",
    "        \"[CLS]\",\n",
    "        \"[SEP]\",\n",
    "    ]\n",
    ")"
   ]
  },
  {
   "cell_type": "code",
   "execution_count": 6,
   "id": "7de3d083",
   "metadata": {},
   "outputs": [],
   "source": [
    "bpe_tokenizer.save(\"./canto_wholecode.json\")"
   ]
  },
  {
   "cell_type": "code",
   "execution_count": 7,
   "id": "f1678102",
   "metadata": {},
   "outputs": [],
   "source": [
    "from transformers import PreTrainedTokenizerFast\n",
    "\n",
    "tok = PreTrainedTokenizerFast(tokenizer_file=\"./canto_wholecode.json\")"
   ]
  },
  {
   "cell_type": "code",
   "execution_count": 13,
   "id": "f931fdad",
   "metadata": {},
   "outputs": [
    {
     "data": {
      "text/plain": [
       "0"
      ]
     },
     "execution_count": 13,
     "metadata": {},
     "output_type": "execute_result"
    }
   ],
   "source": [
    "tok.add_special_tokens({\n",
    "    'pad_token': '[PAD]',\n",
    "    'mask_token': '[MASK]',\n",
    "    'unk_token': '[UNK]',\n",
    "    'cls_token': '[CLS]',\n",
    "    'sep_token': '[SEP]'\n",
    "})"
   ]
  },
  {
   "cell_type": "code",
   "execution_count": 14,
   "id": "3e39ac05",
   "metadata": {},
   "outputs": [
    {
     "data": {
      "text/plain": [
       "('./tokenizer/tokenizer-canto/tokenizer_config.json',\n",
       " './tokenizer/tokenizer-canto/special_tokens_map.json',\n",
       " './tokenizer/tokenizer-canto/tokenizer.json')"
      ]
     },
     "execution_count": 14,
     "metadata": {},
     "output_type": "execute_result"
    }
   ],
   "source": [
    "tok.save_pretrained('./tokenizer/tokenizer-canto')"
   ]
  },
  {
   "cell_type": "code",
   "execution_count": 17,
   "id": "9ba1fccd",
   "metadata": {},
   "outputs": [],
   "source": [
    "canto_tok =AutoTokenizer.from_pretrained(\"./tokenizer/tokenizer-canto\")"
   ]
  },
  {
   "cell_type": "code",
   "execution_count": 19,
   "id": "bd93578f",
   "metadata": {},
   "outputs": [
    {
     "data": {
      "text/plain": [
       "0"
      ]
     },
     "execution_count": 19,
     "metadata": {},
     "output_type": "execute_result"
    }
   ],
   "source": [
    "canto_tok.pad_token_id"
   ]
  },
  {
   "cell_type": "code",
   "execution_count": 8,
   "id": "85251f99",
   "metadata": {},
   "outputs": [
    {
     "data": {
      "text/plain": [
       "{'input_ids': [3061, 535, 2365, 11789, 7737, 2155], 'token_type_ids': [0, 0, 0, 0, 0, 0], 'attention_mask': [1, 1, 1, 1, 1, 1]}"
      ]
     },
     "execution_count": 8,
     "metadata": {},
     "output_type": "execute_result"
    }
   ],
   "source": [
    "tok(\"無人住喺大角嘴瓏璽京\")"
   ]
  },
  {
   "cell_type": "code",
   "execution_count": 9,
   "id": "b535069b",
   "metadata": {},
   "outputs": [
    {
     "data": {
      "text/plain": [
       "'無人住喺大角嘴瓏璽京'"
      ]
     },
     "execution_count": 9,
     "metadata": {},
     "output_type": "execute_result"
    }
   ],
   "source": [
    "tok.decode([3061, 535, 2365, 11789, 7737, 2155])"
   ]
  },
  {
   "cell_type": "code",
   "execution_count": 12,
   "id": "de8b9aa3",
   "metadata": {},
   "outputs": [],
   "source": [
    "tok.pad_token_id"
   ]
  },
  {
   "cell_type": "code",
   "execution_count": 20,
   "id": "ad99a8a7",
   "metadata": {},
   "outputs": [
    {
     "name": "stderr",
     "output_type": "stream",
     "text": [
      "Downloading: 100%|██████████████████████████████████████████████████████████████████████████████| 185k/185k [00:00<00:00, 3.20MB/s]\n",
      "Downloading: 100%|████████████████████████████████████████████████████████████████████████████████| 829/829 [00:00<00:00, 1.25MB/s]\n",
      "Downloading: 100%|████████████████████████████████████████████████████████████████████████████| 1.04M/1.04M [00:00<00:00, 8.60MB/s]\n",
      "Downloading: 100%|██████████████████████████████████████████████████████████████████████████████| 494k/494k [00:00<00:00, 4.95MB/s]\n",
      "Downloading: 100%|████████████████████████████████████████████████████████████████████████████| 52.7k/52.7k [00:00<00:00, 1.38MB/s]\n",
      "Downloading: 100%|████████████████████████████████████████████████████████████████████████████| 2.11k/2.11k [00:00<00:00, 3.78MB/s]\n",
      "Downloading: 100%|████████████████████████████████████████████████████████████████████████████| 2.06k/2.06k [00:00<00:00, 3.84MB/s]\n"
     ]
    }
   ],
   "source": [
    "from transformers import WhisperProcessor\n",
    "processor = WhisperProcessor.from_pretrained(\"openai/whisper-small\", task=\"transcribe\")"
   ]
  },
  {
   "cell_type": "code",
   "execution_count": 22,
   "id": "4c41e3e0",
   "metadata": {},
   "outputs": [
    {
     "data": {
      "text/plain": [
       "{'input_ids': [50258, 50359, 50363, 16976, 4035, 21632, 5234, 118, 3582, 29389, 10756, 112, 163, 241, 237, 40063, 121, 31375, 50257], 'attention_mask': [1, 1, 1, 1, 1, 1, 1, 1, 1, 1, 1, 1, 1, 1, 1, 1, 1, 1, 1]}"
      ]
     },
     "execution_count": 22,
     "metadata": {},
     "output_type": "execute_result"
    }
   ],
   "source": [
    "processor.tokenizer(\"無人住喺大角嘴瓏璽京\")"
   ]
  },
  {
   "cell_type": "code",
   "execution_count": 23,
   "id": "62acc95e",
   "metadata": {},
   "outputs": [
    {
     "data": {
      "text/plain": [
       "'<|startoftranscript|><|transcribe|><|notimestamps|>無人住喺大角嘴瓏璽京<|endoftext|>'"
      ]
     },
     "execution_count": 23,
     "metadata": {},
     "output_type": "execute_result"
    }
   ],
   "source": [
    "processor.tokenizer.decode([50258, 50359, 50363, 16976, 4035, 21632, 5234, 118, 3582, 29389, 10756, 112, 163, 241, 237, 40063, 121, 31375, 50257])"
   ]
  }
 ],
 "metadata": {
  "kernelspec": {
   "display_name": "Python 3 (ipykernel)",
   "language": "python",
   "name": "python3"
  },
  "language_info": {
   "codemirror_mode": {
    "name": "ipython",
    "version": 3
   },
   "file_extension": ".py",
   "mimetype": "text/x-python",
   "name": "python",
   "nbconvert_exporter": "python",
   "pygments_lexer": "ipython3",
   "version": "3.8.10"
  }
 },
 "nbformat": 4,
 "nbformat_minor": 5
}
